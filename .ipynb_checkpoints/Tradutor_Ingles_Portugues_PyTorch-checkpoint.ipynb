{
 "cells": [
  {
   "cell_type": "code",
   "execution_count": 1,
   "id": "48992fb7-5f1c-412d-b89a-91d0dbf401f1",
   "metadata": {},
   "outputs": [],
   "source": [
    "import torch\n",
    "import torch.nn as nn\n",
    "from transformers import M2M100ForConditionalGeneration, M2M100Tokenizer\n",
    "from langdetect import detect \n",
    "import warnings\n",
    "\n",
    "warnings.filterwarnings('ignore')"
   ]
  },
  {
   "cell_type": "code",
   "execution_count": 2,
   "id": "2ed28955-b05a-4b24-9579-016b8986ae3e",
   "metadata": {},
   "outputs": [],
   "source": [
    "# Definir caminho do modelo\n",
    "\n",
    "MODEL_NAME = \"facebook/m2m100_418M\""
   ]
  },
  {
   "cell_type": "code",
   "execution_count": 3,
   "id": "73a54219-a6d4-40f0-9d36-ed52bb6861a0",
   "metadata": {},
   "outputs": [],
   "source": [
    "# Baixar e carregar o modelo e tokenizador\n",
    "\n",
    "tokenizer = M2M100Tokenizer.from_pretrained(MODEL_NAME)\n",
    "model = M2M100ForConditionalGeneration.from_pretrained(MODEL_NAME)"
   ]
  },
  {
   "cell_type": "code",
   "execution_count": 4,
   "id": "c84597e9-c15e-49a7-99fd-d22429d9089b",
   "metadata": {},
   "outputs": [],
   "source": [
    "# Função para detectar idioma automaticamente usando langdetect\n",
    "\n",
    "def detect_language(sentence):\n",
    "    return detect(sentence)"
   ]
  },
  {
   "cell_type": "code",
   "execution_count": 5,
   "id": "1650ffb5-e9d5-4376-be82-881707c2c956",
   "metadata": {},
   "outputs": [],
   "source": [
    "# Função para traduzir usando modelo local com ajustes no processo de tradução\n",
    "\n",
    "def translate(sentence):\n",
    "    source_lang = detect_language(sentence)\n",
    "    # Definir idioma de destino: se a língua de origem for português, traduz para inglês e vice-versa\n",
    "    target_lang = \"en\" if source_lang == \"pt\" else \"pt\"\n",
    "    \n",
    "    tokenizer.src_lang = source_lang\n",
    "    inputs = tokenizer(sentence, return_tensors=\"pt\", padding=True, truncation=True)\n",
    "\n",
    "    # Gerar tradução com controle de parâmetros de geração para melhorar fluidez\n",
    "    with torch.no_grad():\n",
    "        translated_tokens = model.generate(\n",
    "            **inputs, \n",
    "            forced_bos_token_id=tokenizer.get_lang_id(target_lang),\n",
    "            num_beams=5,           # Busca por feixes para melhorar a qualidade da tradução\n",
    "            no_repeat_ngram_size=2,  # Evita repetições desnecessárias\n",
    "            top_p=0.9,              # Controle de diversidade\n",
    "            temperature=1.0         # Controle da aleatoriedade\n",
    "        )\n",
    "    return tokenizer.decode(translated_tokens[0], skip_special_tokens=True)"
   ]
  },
  {
   "cell_type": "code",
   "execution_count": 6,
   "id": "04b9db2f-0cca-44b1-ba58-39be2dfd98fd",
   "metadata": {},
   "outputs": [],
   "source": [
    "# Definição do modelo de tradução\n",
    "\n",
    "class LocalTranslator(nn.Module):\n",
    "    def __init__(self):\n",
    "        super(LocalTranslator, self).__init__()\n",
    "    \n",
    "    def forward(self, sentence):\n",
    "        return translate(sentence)"
   ]
  },
  {
   "cell_type": "code",
   "execution_count": 7,
   "id": "d952ea87-2bce-428f-9ec7-915c65cc4265",
   "metadata": {},
   "outputs": [],
   "source": [
    "# Instancia o tradutor\n",
    "\n",
    "translator = LocalTranslator()"
   ]
  },
  {
   "cell_type": "code",
   "execution_count": 8,
   "id": "3f251b58-8de1-4828-9653-bdc4ec334d77",
   "metadata": {},
   "outputs": [
    {
     "name": "stdin",
     "output_type": "stream",
     "text": [
      "Digite uma frase (ou 'sair' para encerrar):  What day is today?\n"
     ]
    },
    {
     "name": "stdout",
     "output_type": "stream",
     "text": [
      "Tradução: O que é hoje?\n"
     ]
    },
    {
     "name": "stdin",
     "output_type": "stream",
     "text": [
      "Digite uma frase (ou 'sair' para encerrar):  O que haverá para o jantar?\n"
     ]
    },
    {
     "name": "stdout",
     "output_type": "stream",
     "text": [
      "Tradução: What will there be for dinner?\n"
     ]
    },
    {
     "name": "stdin",
     "output_type": "stream",
     "text": [
      "Digite uma frase (ou 'sair' para encerrar):  sair\n"
     ]
    }
   ],
   "source": [
    "# Exemplo de uso\n",
    "\n",
    "if __name__ == \"__main__\":\n",
    "    while True:\n",
    "        sentence = input(\"Digite uma frase (ou 'sair' para encerrar): \")\n",
    "        if sentence.lower() == \"sair\":\n",
    "            break\n",
    "        print(\"Tradução:\", translator(sentence))  "
   ]
  }
 ],
 "metadata": {
  "kernelspec": {
   "display_name": "Python 3 (ipykernel)",
   "language": "python",
   "name": "python3"
  },
  "language_info": {
   "codemirror_mode": {
    "name": "ipython",
    "version": 3
   },
   "file_extension": ".py",
   "mimetype": "text/x-python",
   "name": "python",
   "nbconvert_exporter": "python",
   "pygments_lexer": "ipython3",
   "version": "3.12.4"
  }
 },
 "nbformat": 4,
 "nbformat_minor": 5
}
